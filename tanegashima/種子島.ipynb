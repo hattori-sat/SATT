{
 "cells": [
  {
   "cell_type": "code",
   "execution_count": 14,
   "metadata": {},
   "outputs": [
    {
     "name": "stdout",
     "output_type": "stream",
     "text": [
      "finish\n"
     ]
    }
   ],
   "source": [
    "# !/usr/bin/env python\n",
    "# -*- coding: utf-8 -*-\n",
    "\n",
    "import time\n",
    "#import picamera\n",
    "import numpy as np\n",
    "import random\n",
    "import sys\n",
    "import cv2\n",
    "\n",
    "\n",
    "def red_detect(img):\n",
    "    hsv = cv2.cvtColor(img,cv2.COLOR_BGR2HSV)\n",
    "    hsv_min = np.array([0,50,0])#0,50,0\n",
    "    hsv_max = np.array([30,255,0])\n",
    "    mask1 = cv2.inRange(hsv, hsv_min, hsv_max)\n",
    "\n",
    "    hsv_min = np.array([30,175,150])\n",
    "    hsv_max = np.array([20,255,250])\n",
    "    mask2 = cv2.inRange(hsv, hsv_min, hsv_max)\n",
    "    return mask1 + mask2\n",
    "\n",
    "def main():\n",
    "    #camera = picamera.PiCamera()\n",
    "    #camera.resolution=(600,600)\n",
    "    for i in range(1,51,1):\n",
    "        #camera.capture('./redcorn/'+i+'.png')#take picture\n",
    "        image1 = cv2.imread('./new2/'+str(i)+'.jpg')\n",
    "        #image1=cv2.resize(image1,(600,600))\n",
    "        image = cv2.GaussianBlur(image1,(15,15),13)#delete white noise\n",
    "        mono_src=red_detect(image)\n",
    "        cv2.imwrite('./new2-binarization/'+str(i)+'.jpg',mono_src)\n",
    "        \n",
    "if __name__ == '__main__':\n",
    "    main()\n",
    "    print(\"finish\")\n",
    "\n"
   ]
  },
  {
   "cell_type": "code",
   "execution_count": 6,
   "metadata": {},
   "outputs": [
    {
     "name": "stdout",
     "output_type": "stream",
     "text": [
      "finish\n"
     ]
    }
   ],
   "source": [
    "\n",
    "#!/usr/bin/env python\n",
    "        # -*- coding: utf-8 -*-\n",
    "\n",
    "import time\n",
    "#import picamera\n",
    "import numpy as np\n",
    "import random\n",
    "import sys\n",
    "import cv2\n",
    "import time\n",
    "\n",
    "def red_detect(img):\n",
    "    hsv = cv2.cvtColor(img,cv2.COLOR_BGR2HSV)\n",
    "    hsv_min = np.array([0,50,0])\n",
    "    hsv_max = np.array([0,250,0])\n",
    "    mask1 = cv2.inRange(hsv, hsv_min, hsv_max)\n",
    "\n",
    "    hsv_min = np.array([0,170,150])\n",
    "    hsv_max = np.array([20,255,255])#(90,255,255)でうまくいったけどmaxが255じゃないっぽい\n",
    "    mask2 = cv2.inRange(hsv, hsv_min, hsv_max)\n",
    "\n",
    "    return mask1 + mask2\n",
    "\n",
    "\n",
    "\n",
    "def main():\n",
    "   \n",
    "    for j in range(1,51,1):\n",
    "        image1 = cv2.imread('./colorcorn/'+str(j)+'.jpg')\n",
    "        #image1 = cv2.imread('./test1.jpeg')\n",
    "        #image = cv2.GaussianBlur(image1,(5,5),3)#delete white noise\n",
    "        image = cv2.GaussianBlur(image1,(21,21),15)#delete white noise\n",
    "        mono_src=red_detect(image) \n",
    "        cv2.imshow('RED_DETECT',mono_src)\n",
    "        color_src01 = cv2.cvtColor(mono_src, cv2.COLOR_GRAY2BGR)\n",
    "        color_src02 = cv2.cvtColor(mono_src, cv2.COLOR_GRAY2BGR)\n",
    "        label = cv2.connectedComponentsWithStats(mono_src) #make array to get imformation\n",
    "        if label:\n",
    "            n = label[0] - 1\n",
    "            data = np.delete(label[2], 0, 0)\n",
    "            center = np.delete(label[3], 0, 0)\n",
    "            #print(label[3])\n",
    "        for i in range(n):\n",
    "            x0 = data[i][0]\n",
    "            y0 = data[i][1]\n",
    "            x1 = data[i][0] + data[i][2]\n",
    "            y1 = data[i][1] + data[i][3]\n",
    "            cv2.rectangle(color_src01, (x0, y0), (x1, y1), (0, 0, 255))\n",
    "            cv2.rectangle(color_src02, (x0, y0), (x1, y1), (0, 0, 255))\n",
    "            cv2.putText(color_src01, \"ID: \" +str(i + 1), (x1 - 20, y1 + 15), cv2.FONT_HERSHEY_PLAIN, 1, (0, 255, 255))\n",
    "            cv2.putText(color_src01, \"S: \" +str(data[i][4]), (x1 - 20, y1 + 30), cv2.FONT_HERSHEY_PLAIN, 1, (0, 255, 255))\n",
    "            cv2.putText(color_src02, \"X: \" + str(int(center[i][0])), (x1 - 30, y1 + 15), cv2.FONT_HERSHEY_PLAIN, 1, (0, 255, 255))\n",
    "            cv2.putText(color_src02, \"Y: \" + str(int(center[i][1])), (x1 - 30, y1 + 30), cv2.FONT_HERSHEY_PLAIN, 1, (0, 255, 255))\n",
    "\n",
    "        # 結果の表示\n",
    "        #v2.imshow(\"color_src01\", color_src01)\n",
    "        #cv2.imshow(\"color_src02\", color_src02)\n",
    "        #print(label[2])\n",
    "        #print(label[3])\n",
    "        #cv2.destroyAllWindow\n",
    "        cv2.imwrite('./a/'+str(j)+'.jpg',color_src02)\n",
    "\n",
    "    print(\"finish\")\n",
    "            \n",
    "    \n",
    "\n",
    "if __name__ == '__main__':\n",
    "    main()\n"
   ]
  },
  {
   "cell_type": "code",
   "execution_count": 18,
   "metadata": {},
   "outputs": [
    {
     "name": "stdout",
     "output_type": "stream",
     "text": [
      "finish\n"
     ]
    }
   ],
   "source": [
    "\n",
    "#!/usr/bin/env python\n",
    "        # -*- coding: utf-8 -*-\n",
    "\n",
    "import time\n",
    "#import picamera\n",
    "import numpy as np\n",
    "import random\n",
    "import sys\n",
    "import cv2\n",
    "import time\n",
    "\n",
    "def red_detect(img):\n",
    "    hsv = cv2.cvtColor(img,cv2.COLOR_BGR2HSV)\n",
    "    hsv_min = np.array([0,50,0])\n",
    "    hsv_max = np.array([0,250,0])\n",
    "    mask1 = cv2.inRange(hsv, hsv_min, hsv_max)\n",
    "\n",
    "    hsv_min = np.array([0,170,150])\n",
    "    hsv_max = np.array([20,255,255])#(90,255,255)でうまくいったけどmaxが255じゃないっぽい\n",
    "    mask2 = cv2.inRange(hsv, hsv_min, hsv_max)\n",
    "\n",
    "    return mask1 + mask2\n",
    "\n",
    "\n",
    "\n",
    "def main():\n",
    "   \n",
    "    for j in range(1,26,1):\n",
    "        image1 = cv2.imread('./corn/'+str(j)+'.jpg')\n",
    "        #image1 = cv2.imread('./test1.jpeg')\n",
    "        #image = cv2.GaussianBlur(image1,(5,5),3)#delete white noise\n",
    "        image = cv2.GaussianBlur(image1,(3,3),1)#delete white noise\n",
    "        mono_src=red_detect(image) \n",
    "        cv2.imshow('RED_DETECT',mono_src)\n",
    "        color_src01 = cv2.cvtColor(mono_src, cv2.COLOR_GRAY2BGR)\n",
    "        color_src02 = cv2.cvtColor(mono_src, cv2.COLOR_GRAY2BGR)\n",
    "        label = cv2.connectedComponentsWithStats(mono_src) #make array to get imformation\n",
    "        if label:\n",
    "            n = label[0] - 1\n",
    "            data = np.delete(label[2], 0, 0)\n",
    "            center = np.delete(label[3], 0, 0)\n",
    "            #print(label[3])dddddddddddddddddd\n",
    "        for i in range(n):\n",
    "            x0 = data[i][0]\n",
    "            y0 = data[i][1]\n",
    "            x1 = data[i][0] + data[i][2]\n",
    "            y1 = data[i][1] + data[i][3]\n",
    "            cv2.rectangle(color_src01, (x0, y0), (x1, y1), (0, 0, 255))\n",
    "            cv2.rectangle(color_src02, (x0, y0), (x1, y1), (0, 0, 255))\n",
    "            cv2.putText(color_src01, \"ID: \" +str(i + 1), (x1 - 20, y1 + 15), cv2.FONT_HERSHEY_PLAIN, 1, (0, 255, 255))\n",
    "            cv2.putText(color_src01, \"S: \" +str(data[i][4]), (x1 - 20, y1 + 30), cv2.FONT_HERSHEY_PLAIN, 1, (0, 255, 255))\n",
    "            cv2.putText(color_src02, \"X: \" + str(int(center[i][0])), (x1 - 30, y1 + 15), cv2.FONT_HERSHEY_PLAIN, 1, (0, 255, 255))\n",
    "            cv2.putText(color_src02, \"Y: \" + str(int(center[i][1])), (x1 - 30, y1 + 30), cv2.FONT_HERSHEY_PLAIN, 1, (0, 255, 255))\n",
    "\n",
    "        cv2.imwrite('./b/'+str(j)+'.jpg',color_src02)\n",
    "\n",
    "    print(\"finish\")\n",
    "            \n",
    "    \n",
    "\n",
    "if __name__ == '__main__':\n",
    "    main()\n"
   ]
  },
  {
   "cell_type": "code",
   "execution_count": 17,
   "metadata": {},
   "outputs": [
    {
     "name": "stdout",
     "output_type": "stream",
     "text": [
      "finish\n"
     ]
    }
   ],
   "source": [
    "# !/usr/bin/env python\n",
    "# -*- coding: utf-8 -*-\n",
    "\n",
    "\n",
    "\n",
    "#ダメダメダメダメm\n",
    "\n",
    "import time\n",
    "#import picamera\n",
    "import numpy as np\n",
    "import random\n",
    "import sys\n",
    "import cv2\n",
    "\n",
    "\n",
    "def red_detect(img):\n",
    "    hsv = cv2.cvtColor(img,cv2.COLOR_BGR2HSV)\n",
    "    hsv_min = np.array([0,50,0])#0,50,0\n",
    "    hsv_max = np.array([30,255,0])\n",
    "    mask1 = cv2.inRange(hsv, hsv_min, hsv_max)\n",
    "\n",
    "    hsv_min = np.array([30,175,0])\n",
    "    hsv_max = np.array([255,255,250])\n",
    "    mask2 = cv2.inRange(hsv, hsv_min, hsv_max)\n",
    "    return mask1 + mask2\n",
    "\n",
    "def main():\n",
    "    #camera = picamera.PiCamera()\n",
    "    #camera.resolution=(600,600)\n",
    "    for i in range(1,26,1):\n",
    "        #camera.capture('./corn/'+i+'.png')#take picture\n",
    "        image1 = cv2.imread('./corn/'+str(i)+'.jpg')\n",
    "        #image1=cv2.resize(image1,(600,600))\n",
    "        image = cv2.GaussianBlur(image1,(15,15),13)#delete white noise\n",
    "        mono_src=red_detect(image)\n",
    "        cv2.imwrite('./prior/'+str(i)+'.jpg',mono_src)\n",
    "        \n",
    "if __name__ == '__main__':\n",
    "    main()\n",
    "    print(\"finish\")\n",
    "\n"
   ]
  },
  {
   "cell_type": "code",
   "execution_count": 8,
   "metadata": {},
   "outputs": [
    {
     "name": "stdout",
     "output_type": "stream",
     "text": [
      "nkdklgfasklfjasdklj\n",
      "hello\n"
     ]
    }
   ],
   "source": [
    "%%time\n",
    "import cv2\n",
    "import numpy as np\n",
    "\n",
    "print(\"nkdklgfasklfjasdklj\")\n",
    "i=1\n",
    "size=(500,500)\n",
    "while(i<26):\n",
    "    img=cv2.imread(\"./hattoricorn/\"+str(i)+\".jpg\")\n",
    "    img=cv2.resize(img,size)\n",
    "    src=cv2.pyrMeanShiftFiltering(img,sp=30,sr=30,maxLevel=3)\n",
    "    cv2.imwrite(\"./mean3-hattoricorn/\"+str(i)+\".jpg\",src)\n",
    "    i=i+1\n",
    "print(\"hello\")"
   ]
  },
  {
   "cell_type": "code",
   "execution_count": 22,
   "metadata": {},
   "outputs": [
    {
     "data": {
      "text/plain": [
       "True"
      ]
     },
     "execution_count": 22,
     "metadata": {},
     "output_type": "execute_result"
    }
   ],
   "source": []
  },
  {
   "cell_type": "code",
   "execution_count": 17,
   "metadata": {},
   "outputs": [
    {
     "name": "stdout",
     "output_type": "stream",
     "text": [
      "finish\n",
      "Wall time: 513 ms\n"
     ]
    }
   ],
   "source": [
    "%%time\n",
    "# !/usr/bin/env python\n",
    "# -*- coding: utf-8 -*-\n",
    "\n",
    "import time\n",
    "#import picamera\n",
    "import numpy as np\n",
    "import random\n",
    "import sys\n",
    "import cv2\n",
    "\n",
    "\n",
    "def red_detect(img):\n",
    "    hsv = cv2.cvtColor(img,cv2.COLOR_BGR2HSV)\n",
    "    hsv_min = np.array([0,50,50])#0,50,0\n",
    "    hsv_max = np.array([5,255,255])\n",
    "    mask1 = cv2.inRange(hsv, hsv_min, hsv_max)\n",
    "\n",
    "    hsv_min = np.array([170,50,50])\n",
    "    hsv_max = np.array([180,255,255])\n",
    "    mask2 = cv2.inRange(hsv, hsv_min, hsv_max)\n",
    "    return mask1 + mask2\n",
    "\n",
    "def main():\n",
    "    #camera = picamera.PiCamera()\n",
    "    #camera.resolution=(600,600)\n",
    "    for i in range(1,26,1):\n",
    "        #camera.capture('./redcorn/'+i+'.png')#take picture\n",
    "        image1 = cv2.imread('./mean3-hattoricorn/'+str(i)+'.jpg')\n",
    "        #image1=cv2.resize(image1,(600,600))\n",
    "        image = cv2.GaussianBlur(image1,(15,15),13)#delete white noise\n",
    "        mono_src=red_detect(image)\n",
    "        cv2.imwrite('./mean3-hattoricorn-binarization/'+str(i)+'.jpg',mono_src)\n",
    "        \n",
    "if __name__ == '__main__':\n",
    "    main()\n",
    "    print(\"finish\")\n",
    "\n"
   ]
  },
  {
   "cell_type": "code",
   "execution_count": 32,
   "metadata": {},
   "outputs": [
    {
     "name": "stdout",
     "output_type": "stream",
     "text": [
      "finish\n",
      "Wall time: 11.5 s\n"
     ]
    }
   ],
   "source": [
    "%%time\n",
    "# !/usr/bin/env python\n",
    "# -*- coding: utf-8 -*-\n",
    "\n",
    "import time\n",
    "#import picamera\n",
    "import numpy as np\n",
    "import random\n",
    "import sys\n",
    "import cv2\n",
    "\n",
    "\n",
    "def red_detect(img):\n",
    "    hsv = cv2.cvtColor(img,cv2.COLOR_BGR2HSV)\n",
    "    hsv_min = np.array([0,55,80])#0,50,0\n",
    "    hsv_max = np.array([5,255,255])\n",
    "    mask1 = cv2.inRange(hsv, hsv_min, hsv_max)\n",
    "\n",
    "    hsv_min = np.array([160,110,80])\n",
    "    hsv_max = np.array([180,255,255])\n",
    "    mask2 = cv2.inRange(hsv, hsv_min, hsv_max)\n",
    "    return mask1 + mask2\n",
    "\n",
    "def main():\n",
    "    size=(500,500)\n",
    "    #camera = picamera.PiCamera()\n",
    "    #camera.resolution=(600,600)\n",
    "    for i in range(1,26,1):\n",
    "        #camera.capture('./redcorn/'+i+'.png')#take picture\n",
    "        image1 = cv2.imread('./hattoricorn/'+str(i)+'.jpg')\n",
    "        image1=cv2.resize(image1,size)\n",
    "                \n",
    "\n",
    "        #image1=cv2.resize(image1,(600,600))\n",
    "        image = cv2.GaussianBlur(image1,(5,5),3)#delete white noise\n",
    "        mono_src=red_detect(image)\n",
    "        cv2.imwrite('./meannot-hattoricorn-binarization/'+str(i)+'.jpg',mono_src)\n",
    "        \n",
    "if __name__ == '__main__':\n",
    "    main()\n",
    "    print(\"finish\")\n",
    "\n"
   ]
  },
  {
   "cell_type": "code",
   "execution_count": 53,
   "metadata": {},
   "outputs": [
    {
     "name": "stdout",
     "output_type": "stream",
     "text": [
      "finish\n",
      "Wall time: 130 ms\n"
     ]
    }
   ],
   "source": [
    "%%time\n",
    "# !/usr/bin/env python\n",
    "# -*- coding: utf-8 -*-\n",
    "\n",
    "import time\n",
    "#import picamera\n",
    "import numpy as np\n",
    "import random\n",
    "import sys\n",
    "import cv2\n",
    "\n",
    "\n",
    "def red_detect(img):\n",
    "    hsv = cv2.cvtColor(img,cv2.COLOR_BGR2HSV)\n",
    "    hsv_min = np.array([0,55,80])#0,50,0\n",
    "    hsv_max = np.array([5,255,255])\n",
    "    mask1 = cv2.inRange(hsv, hsv_min, hsv_max)\n",
    "\n",
    "    hsv_min = np.array([160,110,80])\n",
    "    hsv_max = np.array([180,255,255])\n",
    "    mask2 = cv2.inRange(hsv, hsv_min, hsv_max)\n",
    "    return mask1 + mask2\n",
    "\n",
    "def main():\n",
    "    size=(500,500)\n",
    "    #camera = picamera.PiCamera()\n",
    "    #camera.resolution=(600,600)\n",
    "    for i in range(1,51,1):\n",
    "        #camera.capture('./redcorn/'+i+'.png')#take picture\n",
    "        image1 = cv2.imread('./colorcorn/'+str(i)+'.jpg')\n",
    "        image1=cv2.resize(image1,size)\n",
    "                \n",
    "\n",
    "        #image1=cv2.resize(image1,(600,600))\n",
    "        image = cv2.GaussianBlur(image1,(11,11),5)#delete white noise\n",
    "        mono_src=red_detect(image)\n",
    "        cv2.imwrite('./colorcorn-binarization/'+str(i)+'.jpg',mono_src)\n",
    "        \n",
    "if __name__ == '__main__':\n",
    "    main()\n",
    "    print(\"finish\")\n",
    "\n"
   ]
  },
  {
   "cell_type": "code",
   "execution_count": 54,
   "metadata": {},
   "outputs": [
    {
     "name": "stdout",
     "output_type": "stream",
     "text": [
      "finish\n",
      "Wall time: 90.8 ms\n"
     ]
    }
   ],
   "source": [
    "%%time\n",
    "# !/usr/bin/env python\n",
    "# -*- coding: utf-8 -*-\n",
    "\n",
    "import time\n",
    "#import picamera\n",
    "import numpy as np\n",
    "import random\n",
    "import sys\n",
    "import cv2\n",
    "\n",
    "\n",
    "def red_detect(img):\n",
    "    hsv = cv2.cvtColor(img,cv2.COLOR_BGR2HSV)\n",
    "    hsv_min = np.array([0,55,80])\n",
    "    hsv_max = np.array([5,255,255])\n",
    "    mask1 = cv2.inRange(hsv, hsv_min, hsv_max)\n",
    "\n",
    "    hsv_min = np.array([160,110,80])\n",
    "    hsv_max = np.array([180,255,255])\n",
    "    mask2 = cv2.inRange(hsv, hsv_min, hsv_max)\n",
    "    return mask1 + mask2\n",
    "\n",
    "def main():\n",
    "    size=(500,500)\n",
    "    #camera = picamera.PiCamera()\n",
    "    #camera.resolution=(600,600)\n",
    "    for i in range(1,51,1):\n",
    "        #camera.capture('./redcorn/'+i+'.png')#take picture\n",
    "        image1 = cv2.imread('./kano-corn/20d/21-'+str(i)+'.jpg')\n",
    "       # image1=cv2.resize(image1,size)\n",
    "                \n",
    "\n",
    "        #image1=cv2.resize(image1,(600,600))\n",
    "        #image1 = cv2.GaussianBlur(image1,(5,5),3)#delete white noise\n",
    "        mono_src=red_detect(image1)\n",
    "        cv2.imwrite('./kano-corn/20d/21-'+str(i)+'-binarization.jpg',mono_src)\n",
    "        \n",
    "if __name__ == '__main__':\n",
    "    main()\n",
    "    print(\"finish\")\n",
    "\n"
   ]
  },
  {
   "cell_type": "code",
   "execution_count": 47,
   "metadata": {},
   "outputs": [
    {
     "name": "stdout",
     "output_type": "stream",
     "text": [
      "(896, 672)\n",
      "(896, 672)\n",
      "finish\n"
     ]
    }
   ],
   "source": [
    "# -*- coding: utf-8 -*-\n",
    "import cv2\n",
    "import numpy as np\n",
    "\n",
    "# 入力画像の読み込み\n",
    "img = cv2.imread(\"./mean3-hattoricorn-binarization/1.jpg\")\n",
    "\n",
    "# グレースケール変換\n",
    "gray = cv2.cvtColor(img, cv2.COLOR_BGR2GRAY)\n",
    "h,w=gray.shape\n",
    "gray=np.pad(gray,((int(0.2*h),int(0.2*h)),(int(0.2*w),int(0.2*w))),'constant')\n",
    "h,w=gray.shape\n",
    "\n",
    "theta = 45  # 回転角\n",
    "scale = 1.0    # 回転角度・拡大率\n",
    "\n",
    "# 画像の中心座標\n",
    "oy, ox = int(gray.shape[0]/2), int(gray.shape[1]/2)\n",
    "\n",
    "# 方法2(OpenCV)\n",
    "R = cv2.getRotationMatrix2D((ox, oy), theta, scale)    # 回転変換行列の算出\n",
    "dst = cv2.warpAffine(gray, R, (w,h))    # アフィン変換\n",
    "print(gray.shape)\n",
    "\n",
    "print(dst.shape)\n",
    "\n",
    "# 結果を出力\n",
    "cv2.imwrite(\"./rotate/1.png\", dst)\n",
    "print(\"finish\")"
   ]
  },
  {
   "cell_type": "code",
   "execution_count": 1,
   "metadata": {},
   "outputs": [
    {
     "name": "stdout",
     "output_type": "stream",
     "text": [
      "ok\n",
      "(5042, 5042)\n"
     ]
    },
    {
     "ename": "IndexError",
     "evalue": "index 3024 is out of bounds for axis 0 with size 3024",
     "output_type": "error",
     "traceback": [
      "\u001b[1;31m---------------------------------------------------------------------------\u001b[0m",
      "\u001b[1;31mIndexError\u001b[0m                                Traceback (most recent call last)",
      "\u001b[1;32m<ipython-input-1-725f08a1295c>\u001b[0m in \u001b[0;36m<module>\u001b[1;34m()\u001b[0m\n\u001b[0;32m     41\u001b[0m \u001b[1;33m\u001b[0m\u001b[0m\n\u001b[0;32m     42\u001b[0m \u001b[1;31m# 方法(NumPy）\u001b[0m\u001b[1;33m\u001b[0m\u001b[1;33m\u001b[0m\u001b[0m\n\u001b[1;32m---> 43\u001b[1;33m \u001b[0mdst\u001b[0m \u001b[1;33m=\u001b[0m \u001b[0mrotate_affine\u001b[0m\u001b[1;33m(\u001b[0m\u001b[0mgray\u001b[0m\u001b[1;33m,\u001b[0m \u001b[0mtheta\u001b[0m\u001b[1;33m)\u001b[0m\u001b[1;33m\u001b[0m\u001b[0m\n\u001b[0m\u001b[0;32m     44\u001b[0m \u001b[1;33m\u001b[0m\u001b[0m\n\u001b[0;32m     45\u001b[0m \u001b[1;31m# 結果を出力\u001b[0m\u001b[1;33m\u001b[0m\u001b[1;33m\u001b[0m\u001b[0m\n",
      "\u001b[1;32m<ipython-input-1-725f08a1295c>\u001b[0m in \u001b[0;36mrotate_affine\u001b[1;34m(src, theta)\u001b[0m\n\u001b[0;32m     27\u001b[0m             \u001b[1;31m#if yi < h - 1 and xi < w - 1 and yi > 0 and xi > 0:\u001b[0m\u001b[1;33m\u001b[0m\u001b[1;33m\u001b[0m\u001b[0m\n\u001b[0;32m     28\u001b[0m              \u001b[1;31m#   dst[y][x] = src[yi][xi]\u001b[0m\u001b[1;33m\u001b[0m\u001b[1;33m\u001b[0m\u001b[0m\n\u001b[1;32m---> 29\u001b[1;33m             \u001b[0mdst\u001b[0m\u001b[1;33m[\u001b[0m\u001b[0my\u001b[0m\u001b[1;33m]\u001b[0m\u001b[1;33m[\u001b[0m\u001b[0mx\u001b[0m\u001b[1;33m]\u001b[0m \u001b[1;33m=\u001b[0m \u001b[0msrc\u001b[0m\u001b[1;33m[\u001b[0m\u001b[0myi\u001b[0m\u001b[1;33m]\u001b[0m\u001b[1;33m[\u001b[0m\u001b[0mxi\u001b[0m\u001b[1;33m]\u001b[0m\u001b[1;33m\u001b[0m\u001b[0m\n\u001b[0m\u001b[0;32m     30\u001b[0m \u001b[1;33m\u001b[0m\u001b[0m\n\u001b[0;32m     31\u001b[0m     \u001b[1;32mreturn\u001b[0m \u001b[0mdst\u001b[0m\u001b[1;33m\u001b[0m\u001b[0m\n",
      "\u001b[1;31mIndexError\u001b[0m: index 3024 is out of bounds for axis 0 with size 3024"
     ]
    }
   ],
   "source": [
    "# -*- coding: utf-8 -*-\n",
    "import cv2\n",
    "import numpy as np\n",
    "\n",
    "# アフィン変換で画像配列の回転\n",
    "def rotate_affine(src, theta):\n",
    "    # 元画像のサイズを取得\n",
    "    h, w = src.shape[0], src.shape[1]\n",
    "\n",
    "    # 出力画像用の配列生成（要素は全て0）\n",
    "    dst = np.zeros((2*(1+int(np.sqrt((h/2)*(h/2)+(w/2)*(w/2)))),2*(1+int( np.sqrt((h/2)*(h/2)+(w/2)*(w/2))))))\n",
    "    print(dst.shape)\n",
    "\n",
    "    # degreeかｒradianに変換\n",
    "    rd = np.radians(theta)\n",
    "\n",
    "\n",
    "    # アフィン変換\n",
    "    for y in range(0, h):\n",
    "        for x in range(0, w):\n",
    "            xi = (x - int(w/2))*np.cos(rd) - (y - int(h/2))*np.sin(rd) + int(w/2)\n",
    "            yi = (x - int(w/2))*np.sin(rd) + (y - int(h/2))*np.cos(rd) + int(h/2)\n",
    "            xi = int(xi)\n",
    "            yi = int(yi)\n",
    "\n",
    "            # 変換後の座標が範囲外でなければ出力画像配列に画素値を代入\n",
    "            #if yi < h - 1 and xi < w - 1 and yi > 0 and xi > 0:\n",
    "             #   dst[y][x] = src[yi][xi]\n",
    "            dst[y][x] = src[yi][xi]\n",
    "\n",
    "    return dst\n",
    "\n",
    "# 入力画像の読み込み\n",
    "img = cv2.imread(\"./hattoricorn/8.JPG\")\n",
    "print(\"ok\")\n",
    "    \n",
    "# グレースケール変換\n",
    "gray = cv2.cvtColor(img, cv2.COLOR_BGR2GRAY)\n",
    "\n",
    "theta = 45  # 回転角\n",
    "\n",
    "# 方法(NumPy）\n",
    "dst = rotate_affine(gray, theta)\n",
    "\n",
    "# 結果を出力\n",
    "cv2.imwrite(\"./meannot-hattoricorn-binarization/a3.jpg\", dst)\n",
    "print(\"finish\")"
   ]
  },
  {
   "cell_type": "code",
   "execution_count": 7,
   "metadata": {},
   "outputs": [
    {
     "data": {
      "image/png": "[encoded data removed]",
      "text/plain": [
       "<Figure size 432x288 with 1 Axes>"
      ]
     },
     "metadata": {},
     "output_type": "display_data"
    }
   ],
   "source": [
    "import cv2\n",
    "import matplotlib.pyplot as plt\n",
    "def show_img(path):\n",
    "\n",
    "    img = cv2.imread(path)\n",
    "    b, g, r = img[:,:,0], img[:,:,1], img[:,:,2]\n",
    "    hist_b = cv2.calcHist([b],[0],None,[256],[0,256])\n",
    "    hist_g = cv2.calcHist([g],[0],None,[256],[0,256])\n",
    "    hist_r = cv2.calcHist([r],[0],None,[256],[0,256])\n",
    "    plt.plot(hist_r, color='r', label=\"r\")\n",
    "    plt.plot(hist_g, color='g', label=\"g\")\n",
    "    plt.plot(hist_b, color='b', label=\"b\")\n",
    "    plt.legend()\n",
    "    #plt.show() \n",
    "    img2 = cv2.cvtColor(img, cv2.COLOR_BGR2HSV)\n",
    "    h, s, v = img2[:,:,0], img2[:,:,1], img2[:,:,2]\n",
    "    hist_h = cv2.calcHist([h],[0],None,[256],[0,256])\n",
    "    hist_s = cv2.calcHist([s],[0],None,[256],[0,256])\n",
    "    hist_v = cv2.calcHist([v],[0],None,[256],[0,256])\n",
    "    plt.plot(hist_h, color='r', label=\"h\")\n",
    "    plt.plot(hist_s, color='g', label=\"s\")\n",
    "    plt.plot(hist_v, color='b', label=\"v\")\n",
    "    plt.legend()\n",
    "    plt.show()\n",
    "\n",
    "    return hist_r,hist_g, hist_b, hist_h, hist_s, hist_v\n",
    "\n",
    "r,g,b,h,s,v = show_img(\"./hattoricorn/7.JPG\")"
   ]
  },
  {
   "cell_type": "code",
   "execution_count": 1,
   "metadata": {},
   "outputs": [
    {
     "ename": "NameError",
     "evalue": "name 'sqrt' is not defined",
     "output_type": "error",
     "traceback": [
      "\u001b[1;31m---------------------------------------------------------------------------\u001b[0m",
      "\u001b[1;31mNameError\u001b[0m                                 Traceback (most recent call last)",
      "\u001b[1;32m<ipython-input-1-291ff0b5399f>\u001b[0m in \u001b[0;36m<module>\u001b[1;34m()\u001b[0m\n\u001b[1;32m----> 1\u001b[1;33m \u001b[0msqrt\u001b[0m\u001b[1;33m(\u001b[0m\u001b[1;36m1\u001b[0m\u001b[1;33m,\u001b[0m\u001b[1;36m2\u001b[0m\u001b[1;33m)\u001b[0m\u001b[1;33m\u001b[0m\u001b[0m\n\u001b[0m",
      "\u001b[1;31mNameError\u001b[0m: name 'sqrt' is not defined"
     ]
    }
   ],
   "source": []
  },
  {
   "cell_type": "code",
   "execution_count": 1,
   "metadata": {},
   "outputs": [
    {
     "name": "stdout",
     "output_type": "stream",
     "text": [
      "4032 3024 3\n",
      "[[ 3.53553391e-01  3.53553391e-01  2.64663638e+02]\n",
      " [-3.53553391e-01  3.53553391e-01  1.83780909e+03]]\n",
      "(4032, 3024, 3)\n",
      "(4032, 3024, 3)\n",
      "(4032, 3024, 3)\n",
      "<class 'numpy.ndarray'>\n"
     ]
    }
   ],
   "source": [
    "import cv2\n",
    "import numpy as np\n",
    "import math\n",
    "\n",
    "img = cv2.imread('./hattoricorn/8.JPG')\n",
    "\n",
    "h, w, c = img.shape\n",
    "print(h, w, c)\n",
    "# 225 400 3\n",
    "mat = cv2.getRotationMatrix2D((w / 2, h / 2), 45, 0.5)\n",
    "print(mat)\n",
    "# [[  0.35355339   0.35355339  89.51456544]\n",
    "#  [ -0.35355339   0.35355339 143.43592168]]\n",
    "affine_img = cv2.warpAffine(img, mat, (w, h))\n",
    "cv2.imwrite('./binarization/opencv_affine.jpg', affine_img)\n",
    "#affine_img_half = cv2.warpAffine(img, mat, (w, h // 2))\n",
    "#cv2.imwrite('data/dst/opencv_affine_half.jpg', affine_img_half)\n",
    "affine_img_flags = cv2.warpAffine(img, mat, (w, h), flags=cv2.INTER_CUBIC)\n",
    "cv2.imwrite('./hattoricorn/opencv_affine_flags.jpg', affine_img_flags)\n",
    "print(img.shape)\n",
    "print(affine_img_flags.shape)\n",
    "print(affine_img.shape)\n",
    "print(type(img))"
   ]
  },
  {
   "cell_type": "code",
   "execution_count": 40,
   "metadata": {},
   "outputs": [
    {
     "name": "stdout",
     "output_type": "stream",
     "text": [
      "[[0 0 0 0 0 0 0 0 0 0 0]\n",
      " [0 0 0 0 0 0 0 0 0 0 0]\n",
      " [0 0 0 0 0 0 0 0 0 0 0]\n",
      " [0 0 0 0 1 2 3 0 0 0 0]\n",
      " [0 0 0 0 4 5 6 0 0 0 0]\n",
      " [0 0 0 0 0 0 0 0 0 0 0]\n",
      " [0 0 0 0 0 0 0 0 0 0 0]\n",
      " [0 0 0 0 0 0 0 0 0 0 0]]\n"
     ]
    }
   ],
   "source": [
    "import numpy as np\n",
    "\n",
    "a=[[1,2,3],[4,5,6]]\n",
    "a=np.array(a)\n",
    "a=np.pad(a,((3,3),(4,4)),'constant')\n",
    "print(a)"
   ]
  },
  {
   "cell_type": "code",
   "execution_count": 50,
   "metadata": {},
   "outputs": [
    {
     "name": "stdout",
     "output_type": "stream",
     "text": [
      "1251\n",
      "921600\n"
     ]
    }
   ],
   "source": [
    "import numpy as np\n",
    "import cv2\n",
    "\n",
    "img=cv2.imread(\"./mean3-hattoricorn-binarization/19.jpg\")\n",
    "num = np.count_nonzero(img)\n",
    "print(num)\n",
    "print(img.size)"
   ]
  },
  {
   "cell_type": "code",
   "execution_count": 52,
   "metadata": {},
   "outputs": [
    {
     "name": "stdout",
     "output_type": "stream",
     "text": [
      "822522\n",
      "921600\n",
      "0.8924934895833333\n"
     ]
    }
   ],
   "source": [
    "import numpy as np\n",
    "import cv2\n",
    "\n",
    "img=cv2.imread(\"./mean3-hattoricorn-binarization/5.jpg\")\n",
    "num = np.count_nonzero(img)\n",
    "print(num)\n",
    "print(img.size)\n",
    "print(num/img.size)"
   ]
  },
  {
   "cell_type": "code",
   "execution_count": 3,
   "metadata": {},
   "outputs": [
    {
     "name": "stdout",
     "output_type": "stream",
     "text": [
      "[1 2 3 4 5]\n"
     ]
    }
   ],
   "source": [
    "import numpy as np\n",
    "a=np.array([1,2,3,4,5])\n",
    "\n",
    "def ite(array):\n",
    "    print(array)\n",
    "    \n",
    "ite(a)"
   ]
  },
  {
   "cell_type": "code",
   "execution_count": 6,
   "metadata": {},
   "outputs": [
    {
     "name": "stdout",
     "output_type": "stream",
     "text": [
      "[12 15 18]\n",
      "[[1 2 3]\n",
      " [4 5 6]\n",
      " [7 8 9]]\n"
     ]
    }
   ],
   "source": [
    "import numpy as np\n",
    "\n",
    "a=np.array([[1,2,3],[4,5,6],[7,8,9]])\n",
    "print(a.sum(axis=0))\n",
    "print(a)"
   ]
  },
  {
   "cell_type": "code",
   "execution_count": 12,
   "metadata": {},
   "outputs": [
    {
     "name": "stdout",
     "output_type": "stream",
     "text": [
      "[ 6 15 24]\n"
     ]
    }
   ],
   "source": [
    "import numpy as np\n",
    "a=np.array([1,2,3,4,5,6,7,8,9])\n",
    "b=np.array_split(a,3)\n",
    "c=np.array([np.sum(b[i]) for i in range(3)])\n",
    "print(c)"
   ]
  },
  {
   "cell_type": "code",
   "execution_count": 58,
   "metadata": {},
   "outputs": [
    {
     "name": "stdout",
     "output_type": "stream",
     "text": [
      "(5000, 5000)\n",
      "(5000, 5000)\n",
      "(5000, 5000)\n",
      "(5000, 5000)\n",
      "finish\n",
      "(5000, 5000)\n",
      "(5000, 5000)\n",
      "(5000, 5000)\n",
      "(5000, 5000)\n",
      "(5000, 5000)\n",
      "(5000, 5000)\n",
      "(5000, 5000)\n",
      "(5000, 5000)\n",
      "(5000, 5000)\n",
      "(5000, 5000)\n",
      "(5000, 5000)\n",
      "(5000, 5000)\n",
      "(5000, 5000)\n",
      "(5000, 5000)\n",
      "(5000, 5000)\n",
      "(5000, 5000)\n",
      "(5000, 5000)\n",
      "(5000, 5000)\n",
      "(5000, 5000)\n",
      "(5000, 5000)\n",
      "Wall time: 18.3 s\n"
     ]
    }
   ],
   "source": [
    "%%time\n",
    "# !/usr/bin/env python\n",
    "# -*- coding: utf-8 -*-\n",
    "\n",
    "import time\n",
    "#import picamera\n",
    "import numpy as np\n",
    "#import random\n",
    "import sys\n",
    "import cv2\n",
    "import csv\n",
    "\"\"\"\n",
    "この関数はカメラ撮影とバイナリ化（二値化処理）した画像の配列を返すものです．\n",
    "確認し忘れていましたが，0 or 255　のデータです．\n",
    "面積の求め方はnonzeroを使う方法です．\n",
    "255を1にする方法もあるのでそちらでも良いです・\n",
    "\n",
    "引数はいりません．返り値として二値化した配列とtrue　or falseを返します．\n",
    "\"\"\"\n",
    "\"\"\"\n",
    "def red_detect(img):\n",
    "    hsv = cv2.cvtColor(img,cv2.COLOR_BGR2HSV)\n",
    "    hsv_min = np.array([0,50,50])#0,50,0\n",
    "    hsv_max = np.array([5,255,255])\n",
    "    mask1 = cv2.inRange(hsv, hsv_min, hsv_max)\n",
    "\n",
    "    hsv_min = np.array([170,50,50])\n",
    "    hsv_max = np.array([180,255,255])\n",
    "    mask2 = cv2.inRange(hsv, hsv_min, hsv_max)\n",
    "    return mask1 + mask2\n",
    "\"\"\"\n",
    "\n",
    "def red_detect(img):\n",
    "    hsv = cv2.cvtColor(img,cv2.COLOR_BGR2HSV)\n",
    "    hsv_min = np.array([0,55,80])#0,50,0\n",
    "    hsv_max = np.array([5,255,255])\n",
    "    mask1 = cv2.inRange(hsv, hsv_min, hsv_max)\n",
    "\n",
    "    hsv_min = np.array([160,110,80])\n",
    "    hsv_max = np.array([180,255,255])\n",
    "    mask2 = cv2.inRange(hsv, hsv_min, hsv_max)\n",
    "    return mask1 + mask2\n",
    "\"\"\"\n",
    "\n",
    "def red_detect(img):\n",
    "    hsv = cv2.cvtColor(img,cv2.COLOR_BGR2HSV)\n",
    "    hsv_min = np.array([0,55,80])\n",
    "    hsv_max = np.array([5,255,255])\n",
    "    mask1 = cv2.inRange(hsv, hsv_min, hsv_max)\n",
    "\n",
    "    hsv_min = np.array([160,110,80])\n",
    "    hsv_max = np.array([180,255,255])\n",
    "    mask2 = cv2.inRange(hsv, hsv_min, hsv_max)\n",
    "    return mask1 + mask2\n",
    "\"\"\"\n",
    "\n",
    "\n",
    "def capture(i):\n",
    "    #初期設定なので関数内に入れる必要はないです．\n",
    "    #camera=picamera.PiCamera()\n",
    "    #camera.resolution(1200,1200)\n",
    "    #ここから関数\n",
    "\n",
    "    \"\"\"\n",
    "    引数のところに保存する名前を入れてください\n",
    "    関数内でループをさせていないので，写真を保存するのであれば名前を変える必要があります．\n",
    "    私が良くやるのはループの回数を名前にする方法です．\n",
    "    \"./\"+src(i)+\".jpg\"などです．\n",
    "    \n",
    "    \"\"\"\n",
    "    size=(3200,2400)\n",
    "    image1=cv2.imread(\"./hattoricorn/\"+str(i)+\".jpg\")\n",
    "    #camera.capture(\"./a.jpg\")\n",
    "    #保存した画像の読み込みです．保存しない方が早いかもしれないので変更してもよいかも\n",
    "    #image1=cv2.imread(\"./a.jpg\")\n",
    "    #ノイズ処理です．ただ，csvが割と感度が良いのでいらないかもしれないです．\n",
    "    image1=cv2.resize(image1,size)\n",
    "    #image1 = cv2.GaussianBlur(image1, (5, 5), 3)  \n",
    "    #別に定義された関数を用いています．やろうと思えば一つの関数になると思いますが高級関数的な使い方になるのでやめました．\n",
    "    mono_src = red_detect(image1)\n",
    "    #0じゃない値の数を数えます．（結局面積を求めていることと同じ．単位はピクセル）\n",
    "    num = np.count_nonzero(mono_src)\n",
    "    cv2.imwrite(\"./hattorik/\"+str(i)+\".jpg\",mono_src)\n",
    "    scale = num/3200/2400\n",
    "    if scale >=0.8:\n",
    "        bi = True\n",
    "    else:\n",
    "        bi =False\n",
    "\n",
    "    return mono_src,bi\n",
    "\n",
    "def convert(array,theta,scale=1.0):\n",
    "    h,w=array.shape\n",
    "    #array_pad = np.pad(array, ((int(0.2*h), int(0.2*h)),(int(0.2*w), int(0.2*w))), 'constant')\n",
    "    array_pad = np.pad(array,((1300,1300),(900,900)),\"constant\")\n",
    "    print(array_pad.shape)\n",
    "    oy, ox = int(array_pad.shape[0]/2), int(array_pad.shape[1]/2)\n",
    "    R = cv2.getRotationMatrix2D((ox, oy), theta, scale)  \n",
    "    dst = cv2.warpAffine(array_pad, R, (5000, 5000))    # アフィン変換\n",
    "    cv2.imwrite(\"./hattorik/\"+str(i)+\".png\", dst)\n",
    "    array_sum = dst.sum(axis=0)\n",
    "    #array_div = [array_sum[:900],array_sum[901:4099],array_sum[4100:]]\n",
    "    ar1=np.sum(array_sum[:900])\n",
    "    ar2=array_sum[900:4100]\n",
    "    ar3=np.sum(array_sum[4100:])\n",
    "    array_divide = np.array_split(ar2,20)\n",
    "    array_select = np.array([np.sum(array_divide[i]) for i in range(20)])\n",
    "    array_select[0] = array_select[0]+ar1\n",
    "    array_select[19] = array_select[19]+ar3\n",
    "    array_index = np.argmax(array_select)\n",
    "    return array_index/19\n",
    "\n",
    "\n",
    "        \n",
    "if __name__ == '__main__':\n",
    "    with open(\"a.csv\",\"w\") as f:\n",
    "        writer = csv.writer(f, lineterminator='\\n')\n",
    "        for i in range(1,25,1):\n",
    "            array,judge=capture(i)\n",
    "            if judge==True:\n",
    "                print(\"finish\")\n",
    "            select = convert(array,-10)\n",
    "            writer.writerow([i,select])\n",
    "        \n",
    "        \n",
    "    \n",
    "\n"
   ]
  },
  {
   "cell_type": "code",
   "execution_count": 42,
   "metadata": {},
   "outputs": [
    {
     "name": "stdout",
     "output_type": "stream",
     "text": [
      "[5 2 3 4]\n"
     ]
    }
   ],
   "source": [
    "import numpy as np\n",
    "a=np.array([1,2,3,4])\n",
    "a[0]=a[0]+4\n",
    "print(a)"
   ]
  },
  {
   "cell_type": "code",
   "execution_count": 68,
   "metadata": {},
   "outputs": [
    {
     "name": "stdout",
     "output_type": "stream",
     "text": [
      "finish\n"
     ]
    }
   ],
   "source": [
    "# !/usr/bin/env python\n",
    "# -*- coding: utf-8 -*-\n",
    "\n",
    "import time\n",
    "#import picamera\n",
    "import numpy as np\n",
    "#import random\n",
    "import sys\n",
    "import cv2\n",
    "import csv\n",
    "\n",
    "\"\"\"\n",
    "def red_detect(img):\n",
    "    hsv = cv2.cvtColor(img,cv2.COLOR_BGR2HSV)\n",
    "    hsv_min = np.array([0,50,50])#0,50,0\n",
    "    hsv_max = np.array([5,255,255])\n",
    "    mask1 = cv2.inRange(hsv, hsv_min, hsv_max)\n",
    "\n",
    "    hsv_min = np.array([170,50,50])\n",
    "    hsv_max = np.array([180,255,255])\n",
    "    mask2 = cv2.inRange(hsv, hsv_min, hsv_max)\n",
    "    return mask1 + mask2\n",
    "\"\"\"\n",
    "\n",
    "def red_detect(img):\n",
    "\n",
    "    hsv = cv2.cvtColor(img,cv2.COLOR_BGR2HSV)\n",
    "    hsv_min = np.array([0,55,80])#0,50,0\n",
    "    hsv_max = np.array([5,255,255])\n",
    "    mask1 = cv2.inRange(hsv, hsv_min, hsv_max)\n",
    "\n",
    "    hsv_min = np.array([160,110,80])\n",
    "    hsv_max = np.array([180,255,255])\n",
    "    mask2 = cv2.inRange(hsv, hsv_min, hsv_max)\n",
    "    return mask1 + mask2\n",
    "\n",
    "\n",
    "\n",
    "def capture(i):\n",
    "\n",
    "\n",
    "    #初期設定なので関数内に入れる必要はないです．\n",
    "    #camera=picamera.PiCamera()\n",
    "    #camera.resolution(1200,1200)\n",
    "    #ここから関数\n",
    "\n",
    "    size=(3200,2400)\n",
    "    image1=cv2.imread(\"./hattoricorn/\"+str(i)+\".jpg\")\n",
    "    #camera.capture(\"./a.jpg\")\n",
    "    #保存した画像の読み込みです．保存しない方が早いかもしれないので変更してもよいかも\n",
    "    #image1=cv2.imread(\"./a.jpg\")\n",
    "    #ノイズ処理です．ただ，csvが割と感度が良いのでいらないかもしれないです．\n",
    "    image1=cv2.resize(image1,size)\n",
    "    #image1 = cv2.GaussianBlur(image1, (5, 5), 3)  \n",
    "    #別に定義された関数を用いています．やろうと思えば一つの関数になると思いますが高級関数的な使い方になるのでやめました．\n",
    "    mono_src = red_detect(image1)\n",
    "    #0じゃない値の数を数えます．（結局面積を求めていることと同じ．単位はピクセル）\n",
    "    num = np.count_nonzero(mono_src)\n",
    "    #画像を保存する関数，引数は保存する名前になる\n",
    "    cv2.imwrite(\"./hattorik/\"+str(i)+\".jpg\",mono_src)\n",
    "    #終了判定\n",
    "    scale = num/3200/2400\n",
    "    if scale >=0.8:\n",
    "        bi = True\n",
    "    else:\n",
    "        bi =False\n",
    "\n",
    "    return mono_src,bi,scale\n",
    "\n",
    "def convert(array,theta,scale=1.0):\n",
    "\n",
    "    num_devide = 20\n",
    "    h,w=array.shape\n",
    "    array_pad = np.pad(array,((1300,1300),(900,900)),\"constant\")\n",
    "    oy, ox = int(array_pad.shape[0]/2), int(array_pad.shape[1]/2)\n",
    "    R = cv2.getRotationMatrix2D((ox, oy), theta, scale)  \n",
    "    dst = cv2.warpAffine(array_pad, R, (5000, 5000))    # アフィン変換\n",
    "    cv2.imwrite(\"./hattorik/\"+str(i)+\".png\", dst)\n",
    "    array_sum = dst.sum(axis=0)\n",
    "    ar1=np.sum(array_sum[:900])\n",
    "    ar2=array_sum[900:4100]\n",
    "    ar3=np.sum(array_sum[4100:])\n",
    "    array_divide = np.array_split(ar2,num_devide)\n",
    "    array_select = np.array([np.sum(array_divide[i]) for i in range(num_devide)])\n",
    "    array_select[0] = array_select[0]+ar1\n",
    "    array_select[num_devide-1] = array_select[num_devide-1]+ar3\n",
    "    array_index = np.argmax(array_select)\n",
    "    return array_index/(num_devide-1)\n",
    "\n",
    "\n",
    "        \n",
    "if __name__ == '__main__':\n",
    "    with open(\"a.csv\",\"w\") as f:\n",
    "        writer = csv.writer(f, lineterminator='\\n')\n",
    "        for i in range(1,25,1):\n",
    "            array,judge,num=capture(i)\n",
    "            if judge==True:\n",
    "                print(\"finish\")\n",
    "            select = convert(array,0)\n",
    "            writer.writerow([i,select,num*100])\n",
    "        \n",
    "        \n",
    "    \n",
    "\n"
   ]
  },
  {
   "cell_type": "code",
   "execution_count": null,
   "metadata": {},
   "outputs": [],
   "source": []
  }
 ],
 "metadata": {
  "kernelspec": {
   "display_name": "Python 3",
   "language": "python",
   "name": "python3"
  },
  "language_info": {
   "codemirror_mode": {
    "name": "ipython",
    "version": 3
   },
   "file_extension": ".py",
   "mimetype": "text/x-python",
   "name": "python",
   "nbconvert_exporter": "python",
   "pygments_lexer": "ipython3",
   "version": "3.6.5"
  }
 },
 "nbformat": 4,
 "nbformat_minor": 2
}
